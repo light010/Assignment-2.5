{
 "cells": [
  {
   "cell_type": "code",
   "execution_count": 1,
   "metadata": {},
   "outputs": [],
   "source": [
    "def len_map(lst):\n",
    "    '''\n",
    "    input - list of strings\n",
    "    output - list conaining length of respectinve string present in given list\n",
    "    '''\n",
    "    mymap = []        #initiating a list called mymap\n",
    "    for i in lst:\n",
    "        mymap.append(len(i))    #appending length of each element of given list in mymap\n",
    "        \n",
    "    return(mymap)      #returning mymap list"
   ]
  },
  {
   "cell_type": "code",
   "execution_count": 2,
   "metadata": {},
   "outputs": [
    {
     "data": {
      "text/plain": [
       "[1, 2, 7]"
      ]
     },
     "execution_count": 2,
     "metadata": {},
     "output_type": "execute_result"
    }
   ],
   "source": [
    "lstt = ['a', 'bc', 'defbjbk']      #list which is given to above function i.e. len_map\n",
    "len_map(lstt)        #calling len_map function"
   ]
  },
  {
   "cell_type": "code",
   "execution_count": null,
   "metadata": {
    "collapsed": true
   },
   "outputs": [],
   "source": []
  },
  {
   "cell_type": "code",
   "execution_count": 3,
   "metadata": {},
   "outputs": [
    {
     "data": {
      "text/plain": [
       "False"
      ]
     },
     "execution_count": 3,
     "metadata": {},
     "output_type": "execute_result"
    }
   ],
   "source": [
    "def vowel_check(char):\n",
    "    '''\n",
    "    input - single character\n",
    "    output - Boolean output stating if the given character is vowel or not\n",
    "    '''\n",
    "    vowel = ['a', 'e', 'i', 'o', 'u']        #list containg all vowel characters\n",
    "    if char in vowel:           \n",
    "        return True           #if given character is in vowel list then return True else False\n",
    "    else:\n",
    "        return False\n",
    "\n",
    "vowel_check('z')         #calling function"
   ]
  },
  {
   "cell_type": "code",
   "execution_count": null,
   "metadata": {
    "collapsed": true
   },
   "outputs": [],
   "source": []
  }
 ],
 "metadata": {
  "kernelspec": {
   "display_name": "Python 3",
   "language": "python",
   "name": "python3"
  },
  "language_info": {
   "codemirror_mode": {
    "name": "ipython",
    "version": 3
   },
   "file_extension": ".py",
   "mimetype": "text/x-python",
   "name": "python",
   "nbconvert_exporter": "python",
   "pygments_lexer": "ipython3",
   "version": "3.6.3"
  }
 },
 "nbformat": 4,
 "nbformat_minor": 2
}
